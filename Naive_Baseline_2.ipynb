{
 "cells": [
  {
   "cell_type": "code",
   "execution_count": 11,
   "metadata": {},
   "outputs": [],
   "source": [
    "from pathlib import Path\n",
    "\n",
    "import numpy as np\n",
    "import pandas as pd\n",
    "import matplotlib.pyplot as plt\n",
    "import sklearn\n",
    "from typing import Callable"
   ]
  },
  {
   "cell_type": "code",
   "execution_count": 12,
   "metadata": {},
   "outputs": [],
   "source": [
    "train = pd.read_parquet(Path(\"data\") / \"train.parquet\")\n",
    "# train.head()"
   ]
  },
  {
   "cell_type": "code",
   "execution_count": 13,
   "metadata": {},
   "outputs": [],
   "source": [
    "test = pd.read_parquet(Path(\"data\") / \"final_test.parquet\")\n",
    "#test.head()"
   ]
  },
  {
   "cell_type": "code",
   "execution_count": 14,
   "metadata": {},
   "outputs": [
    {
     "data": {
      "text/plain": [
       "counter_id                   51440\n",
       "counter_name                 51440\n",
       "site_id                      51440\n",
       "site_name                    51440\n",
       "date                         51440\n",
       "counter_installation_date    51440\n",
       "coordinates                  51440\n",
       "counter_technical_id         51440\n",
       "latitude                     51440\n",
       "longitude                    51440\n",
       "dtype: int64"
      ]
     },
     "execution_count": 14,
     "metadata": {},
     "output_type": "execute_result"
    }
   ],
   "source": [
    "test.count()"
   ]
  },
  {
   "cell_type": "code",
   "execution_count": 15,
   "metadata": {},
   "outputs": [
    {
     "data": {
      "text/plain": [
       "Timestamp('2020-09-01 01:00:00')"
      ]
     },
     "execution_count": 15,
     "metadata": {},
     "output_type": "execute_result"
    }
   ],
   "source": [
    "train[\"date\"].min()"
   ]
  },
  {
   "cell_type": "code",
   "execution_count": 16,
   "metadata": {},
   "outputs": [
    {
     "data": {
      "text/plain": [
       "Timestamp('2021-09-09 23:00:00')"
      ]
     },
     "execution_count": 16,
     "metadata": {},
     "output_type": "execute_result"
    }
   ],
   "source": [
    "train[\"date\"].max()"
   ]
  },
  {
   "cell_type": "code",
   "execution_count": 17,
   "metadata": {},
   "outputs": [
    {
     "data": {
      "text/plain": [
       "Timestamp('2021-09-10 01:00:00')"
      ]
     },
     "execution_count": 17,
     "metadata": {},
     "output_type": "execute_result"
    }
   ],
   "source": [
    "test[\"date\"].min()"
   ]
  },
  {
   "cell_type": "code",
   "execution_count": 18,
   "metadata": {},
   "outputs": [],
   "source": [
    "def encode_dates(df: pd.DataFrame):\n",
    "    df = df.copy()  # modify a copy of df\n",
    "    # Encode the date information from the DateOfDeparture columns\n",
    "    df[\"year\"] = df[\"date\"].dt.year\n",
    "    df[\"month\"] = df[\"date\"].dt.month\n",
    "    df[\"day\"] = df[\"date\"].dt.day\n",
    "    df[\"weekday\"] = df[\"date\"].dt.weekday\n",
    "    df[\"hour\"] = df[\"date\"].dt.hour\n",
    "    df[\"week\"] = df[\"date\"].dt.isocalendar().week\n",
    "\n",
    "    # Finally we can drop the original columns from the dataframe\n",
    "    return df"
   ]
  },
  {
   "cell_type": "code",
   "execution_count": 19,
   "metadata": {},
   "outputs": [],
   "source": [
    "df_train = encode_dates(df=train)\n",
    "\n",
    "period_start_2020 = df_train[\"date\"].min()\n",
    "period_end_2020 = pd.to_datetime(\"2020-09-09 23:00:00\")\n",
    "\n",
    "period_start_2021 = pd.to_datetime(\"2021-09-01 01:00:00\")\n",
    "period_end_2021 = df_train[\"date\"].max()\n",
    "\n",
    "df_period_2020 = df_train[\n",
    "    df_train[\"date\"].between(period_start_2020, period_end_2020)\n",
    "].copy()\n",
    "df_period_2021 = df_train[\n",
    "    df_train[\"date\"].between(period_start_2021, period_end_2021)\n",
    "].copy()\n",
    "\n",
    "df_reduced_2020 = df_period_2020[\n",
    "    [\"counter_id\", \"log_bike_count\"]\n",
    "]\n",
    "df_reduced_2021 = df_period_2021[\n",
    "    [\"counter_id\", \"log_bike_count\"]\n",
    "]\n"
   ]
  },
  {
   "cell_type": "code",
   "execution_count": 20,
   "metadata": {},
   "outputs": [
    {
     "name": "stdout",
     "output_type": "stream",
     "text": [
      "99.48693046012367\n"
     ]
    }
   ],
   "source": [
    "growth = df_reduced_2021[\"log_bike_count\"].mean() * 100 / df_reduced_2020[\"log_bike_count\"].mean()\n",
    "print(growth)"
   ]
  },
  {
   "cell_type": "markdown",
   "metadata": {},
   "source": [
    "les chiffres sont sensiblement les mêmes en fait. Il y a meme moins de velo à rouler en sept 2021 qu'en sept 2020."
   ]
  },
  {
   "cell_type": "code",
   "execution_count": 21,
   "metadata": {},
   "outputs": [
    {
     "name": "stdout",
     "output_type": "stream",
     "text": [
      "2021-09-10 01:00:00 2021-10-18 21:00:00\n"
     ]
    }
   ],
   "source": [
    "period_start_2021 = test[\"date\"].min()\n",
    "period_end_2021 = test[\"date\"].max()\n",
    "print(period_start_2021, period_end_2021)"
   ]
  },
  {
   "cell_type": "code",
   "execution_count": 22,
   "metadata": {},
   "outputs": [],
   "source": [
    "period_start_2020 = pd.to_datetime(\"2020-09-10 01:00:00\")\n",
    "period_end_2020 = pd.to_datetime(\"2020-10-18 21:00:00\")"
   ]
  },
  {
   "cell_type": "code",
   "execution_count": 23,
   "metadata": {},
   "outputs": [
    {
     "data": {
      "text/plain": [
       "counter_id                   50381\n",
       "counter_name                 50381\n",
       "site_id                      50381\n",
       "site_name                    50381\n",
       "bike_count                   50381\n",
       "date                         50381\n",
       "counter_installation_date    50381\n",
       "coordinates                  50381\n",
       "counter_technical_id         50381\n",
       "latitude                     50381\n",
       "longitude                    50381\n",
       "log_bike_count               50381\n",
       "dtype: int64"
      ]
     },
     "execution_count": 23,
     "metadata": {},
     "output_type": "execute_result"
    }
   ],
   "source": [
    "train_period = train[\n",
    "    train[\"date\"].between(period_start_2020, period_end_2020)\n",
    "].copy()\n",
    "train_period.count()"
   ]
  },
  {
   "cell_type": "code",
   "execution_count": 39,
   "metadata": {},
   "outputs": [],
   "source": [
    "def prediction(df_train: pd.DataFrame, df_test: pd.DataFrame) -> pd.DataFrame:\n",
    "    df_train = encode_dates(df=df_train)\n",
    "    df_test = encode_dates(df=df_test)\n",
    "\n",
    "    df_train[\"key\"] = (\n",
    "        df_train[\"month\"].astype(str).str.zfill(2)\n",
    "        + \"-\"\n",
    "        + df_train[\"day\"].astype(str).str.zfill(2)\n",
    "        + \" \"\n",
    "        + df_train[\"hour\"].astype(str).str.zfill(2)\n",
    "    )\n",
    "    df_test[\"key\"] = (\n",
    "        df_test[\"month\"].astype(str).str.zfill(2)\n",
    "        + \"-\"\n",
    "        + df_test[\"day\"].astype(str).str.zfill(2)\n",
    "        + \" \"\n",
    "        + df_test[\"hour\"].astype(str).str.zfill(2)\n",
    "    )\n",
    "\n",
    "    df_train = df_train[[\"key\", \"counter_id\", \"log_bike_count\"]]\n",
    "    df_test = df_test[[\"key\", \"counter_id\"]]\n",
    "\n",
    "    df_test_preds = pd.merge(\n",
    "        left=df_test, right=df_train, on=[\"counter_id\", \"key\"], how = \"left\"\n",
    "    )\n",
    "\n",
    "    df_test_preds[\"log_bike_count\"] = df_test_preds[\"log_bike_count\"].fillna(0)\n",
    "\n",
    "    return df_test_preds"
   ]
  },
  {
   "cell_type": "code",
   "execution_count": 25,
   "metadata": {},
   "outputs": [],
   "source": [
    "df_test_preds = prediction(df_test=test, df_train=train)"
   ]
  },
  {
   "cell_type": "code",
   "execution_count": 26,
   "metadata": {},
   "outputs": [
    {
     "data": {
      "text/html": [
       "<div>\n",
       "<style scoped>\n",
       "    .dataframe tbody tr th:only-of-type {\n",
       "        vertical-align: middle;\n",
       "    }\n",
       "\n",
       "    .dataframe tbody tr th {\n",
       "        vertical-align: top;\n",
       "    }\n",
       "\n",
       "    .dataframe thead th {\n",
       "        text-align: right;\n",
       "    }\n",
       "</style>\n",
       "<table border=\"1\" class=\"dataframe\">\n",
       "  <thead>\n",
       "    <tr style=\"text-align: right;\">\n",
       "      <th></th>\n",
       "      <th>key</th>\n",
       "      <th>counter_id</th>\n",
       "      <th>log_bike_count</th>\n",
       "    </tr>\n",
       "  </thead>\n",
       "  <tbody>\n",
       "    <tr>\n",
       "      <th>0</th>\n",
       "      <td>09-10 01</td>\n",
       "      <td>100007049-102007049</td>\n",
       "      <td>0.693147</td>\n",
       "    </tr>\n",
       "    <tr>\n",
       "      <th>1</th>\n",
       "      <td>09-10 13</td>\n",
       "      <td>100007049-102007049</td>\n",
       "      <td>1.386294</td>\n",
       "    </tr>\n",
       "    <tr>\n",
       "      <th>2</th>\n",
       "      <td>09-10 17</td>\n",
       "      <td>100007049-102007049</td>\n",
       "      <td>2.079442</td>\n",
       "    </tr>\n",
       "    <tr>\n",
       "      <th>3</th>\n",
       "      <td>09-10 19</td>\n",
       "      <td>100007049-102007049</td>\n",
       "      <td>1.098612</td>\n",
       "    </tr>\n",
       "    <tr>\n",
       "      <th>4</th>\n",
       "      <td>09-10 22</td>\n",
       "      <td>100007049-102007049</td>\n",
       "      <td>0.000000</td>\n",
       "    </tr>\n",
       "    <tr>\n",
       "      <th>5</th>\n",
       "      <td>09-11 00</td>\n",
       "      <td>100007049-102007049</td>\n",
       "      <td>0.000000</td>\n",
       "    </tr>\n",
       "    <tr>\n",
       "      <th>6</th>\n",
       "      <td>09-11 01</td>\n",
       "      <td>100007049-102007049</td>\n",
       "      <td>0.000000</td>\n",
       "    </tr>\n",
       "    <tr>\n",
       "      <th>7</th>\n",
       "      <td>09-11 03</td>\n",
       "      <td>100007049-102007049</td>\n",
       "      <td>0.693147</td>\n",
       "    </tr>\n",
       "    <tr>\n",
       "      <th>8</th>\n",
       "      <td>09-11 04</td>\n",
       "      <td>100007049-102007049</td>\n",
       "      <td>0.693147</td>\n",
       "    </tr>\n",
       "    <tr>\n",
       "      <th>9</th>\n",
       "      <td>09-11 06</td>\n",
       "      <td>100007049-102007049</td>\n",
       "      <td>1.609438</td>\n",
       "    </tr>\n",
       "  </tbody>\n",
       "</table>\n",
       "</div>"
      ],
      "text/plain": [
       "        key           counter_id  log_bike_count\n",
       "0  09-10 01  100007049-102007049        0.693147\n",
       "1  09-10 13  100007049-102007049        1.386294\n",
       "2  09-10 17  100007049-102007049        2.079442\n",
       "3  09-10 19  100007049-102007049        1.098612\n",
       "4  09-10 22  100007049-102007049        0.000000\n",
       "5  09-11 00  100007049-102007049        0.000000\n",
       "6  09-11 01  100007049-102007049        0.000000\n",
       "7  09-11 03  100007049-102007049        0.693147\n",
       "8  09-11 04  100007049-102007049        0.693147\n",
       "9  09-11 06  100007049-102007049        1.609438"
      ]
     },
     "execution_count": 26,
     "metadata": {},
     "output_type": "execute_result"
    }
   ],
   "source": [
    "df_test_preds.head(10)"
   ]
  },
  {
   "cell_type": "code",
   "execution_count": 27,
   "metadata": {},
   "outputs": [
    {
     "data": {
      "text/plain": [
       "np.int64(1866)"
      ]
     },
     "execution_count": 27,
     "metadata": {},
     "output_type": "execute_result"
    }
   ],
   "source": [
    "df_test_preds[\"log_bike_count\"].isnull().sum()"
   ]
  },
  {
   "cell_type": "code",
   "execution_count": 28,
   "metadata": {},
   "outputs": [
    {
     "data": {
      "text/plain": [
       "key               51440\n",
       "counter_id        51440\n",
       "log_bike_count    49574\n",
       "dtype: int64"
      ]
     },
     "execution_count": 28,
     "metadata": {},
     "output_type": "execute_result"
    }
   ],
   "source": [
    "df_test_preds.count()"
   ]
  },
  {
   "cell_type": "code",
   "execution_count": 29,
   "metadata": {},
   "outputs": [
    {
     "data": {
      "text/plain": [
       "key               51440\n",
       "counter_id        51440\n",
       "log_bike_count    51440\n",
       "dtype: int64"
      ]
     },
     "execution_count": 29,
     "metadata": {},
     "output_type": "execute_result"
    }
   ],
   "source": [
    "df_test_preds.sort_values(by=[\"key\"], ascending=True, inplace=True)\n",
    "df_test_preds.bfill(inplace=True)\n",
    "df_test_preds[\"log_bike_count\"].isnull().sum()\n",
    "df_test_preds.count()"
   ]
  },
  {
   "cell_type": "code",
   "execution_count": 30,
   "metadata": {},
   "outputs": [
    {
     "name": "stdout",
     "output_type": "stream",
     "text": [
      "            key           counter_id  log_bike_count\n",
      "0      09-10 01  100007049-102007049        0.693147\n",
      "2771   09-10 01  100036718-103036718        1.609438\n",
      "42536  09-10 01  100057380-104057380        0.693147\n",
      "23011  09-10 01         100056223-SC        0.693147\n",
      "23933  09-10 01  100056226-104056226        0.693147\n"
     ]
    }
   ],
   "source": [
    "print(df_test_preds.head())"
   ]
  },
  {
   "cell_type": "code",
   "execution_count": 31,
   "metadata": {},
   "outputs": [
    {
     "data": {
      "text/html": [
       "<div>\n",
       "<style scoped>\n",
       "    .dataframe tbody tr th:only-of-type {\n",
       "        vertical-align: middle;\n",
       "    }\n",
       "\n",
       "    .dataframe tbody tr th {\n",
       "        vertical-align: top;\n",
       "    }\n",
       "\n",
       "    .dataframe thead th {\n",
       "        text-align: right;\n",
       "    }\n",
       "</style>\n",
       "<table border=\"1\" class=\"dataframe\">\n",
       "  <thead>\n",
       "    <tr style=\"text-align: right;\">\n",
       "      <th></th>\n",
       "      <th>log_bike_count</th>\n",
       "    </tr>\n",
       "    <tr>\n",
       "      <th>Id</th>\n",
       "      <th></th>\n",
       "    </tr>\n",
       "  </thead>\n",
       "  <tbody>\n",
       "    <tr>\n",
       "      <th>0</th>\n",
       "      <td>0.693147</td>\n",
       "    </tr>\n",
       "    <tr>\n",
       "      <th>2771</th>\n",
       "      <td>1.609438</td>\n",
       "    </tr>\n",
       "    <tr>\n",
       "      <th>42536</th>\n",
       "      <td>0.693147</td>\n",
       "    </tr>\n",
       "    <tr>\n",
       "      <th>23011</th>\n",
       "      <td>0.693147</td>\n",
       "    </tr>\n",
       "    <tr>\n",
       "      <th>23933</th>\n",
       "      <td>0.693147</td>\n",
       "    </tr>\n",
       "  </tbody>\n",
       "</table>\n",
       "</div>"
      ],
      "text/plain": [
       "       log_bike_count\n",
       "Id                   \n",
       "0            0.693147\n",
       "2771         1.609438\n",
       "42536        0.693147\n",
       "23011        0.693147\n",
       "23933        0.693147"
      ]
     },
     "execution_count": 31,
     "metadata": {},
     "output_type": "execute_result"
    }
   ],
   "source": [
    "df_submition = df_test_preds[[\"log_bike_count\"]].copy()\n",
    "df_submition.index.name = \"Id\"\n",
    "df_submition.head()"
   ]
  },
  {
   "cell_type": "code",
   "execution_count": 32,
   "metadata": {},
   "outputs": [],
   "source": [
    "df_submition.to_csv(\"/Users/gregzguegue/Downloads/naive_baseline_2.csv\", index=True)"
   ]
  },
  {
   "cell_type": "code",
   "execution_count": 40,
   "metadata": {},
   "outputs": [],
   "source": [
    "def submition(\n",
    "    df_train: pd.DataFrame, df_test: pd.DataFrame, prediction: Callable[[pd.DataFrame, pd.DataFrame], pd.DataFrame], csv_file_name: str\n",
    ") -> None:\n",
    "    df_test_preds = prediction(df_test=df_test, df_train=df_train)\n",
    "    NaN_sum = df_test_preds[\"log_bike_count\"].isnull().sum()\n",
    "    nb_index = 51_440\n",
    "\n",
    "    if df_test_preds.shape[0] != nb_index:\n",
    "        raise ValueError(\"The DataFrame does not have the right number of rows.\")\n",
    "    if NaN_sum > 0:\n",
    "        raise ValueError(\"The DataFrame contains missing values. Handle them before submission.\")\n",
    "    \n",
    "    df_submition = df_test_preds[[\"log_bike_count\"]].copy()\n",
    "    df_submition.index.name = \"Id\"\n",
    "    df_submition.to_csv(\n",
    "        f\"/Users/gregzguegue/Downloads/{csv_file_name}.csv\", index=True\n",
    "    )"
   ]
  },
  {
   "cell_type": "code",
   "execution_count": 41,
   "metadata": {},
   "outputs": [],
   "source": [
    "submition(df_train=train, df_test=test, prediction=prediction, csv_file_name=\"test_function\")"
   ]
  },
  {
   "cell_type": "code",
   "execution_count": null,
   "metadata": {},
   "outputs": [],
   "source": []
  }
 ],
 "metadata": {
  "kernelspec": {
   "display_name": "py312-myenv",
   "language": "python",
   "name": "python3"
  },
  "language_info": {
   "codemirror_mode": {
    "name": "ipython",
    "version": 3
   },
   "file_extension": ".py",
   "mimetype": "text/x-python",
   "name": "python",
   "nbconvert_exporter": "python",
   "pygments_lexer": "ipython3",
   "version": "3.12.7"
  }
 },
 "nbformat": 4,
 "nbformat_minor": 2
}
