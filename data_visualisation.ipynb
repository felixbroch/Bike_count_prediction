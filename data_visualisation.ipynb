{
 "cells": [
  {
   "cell_type": "code",
   "execution_count": 32,
   "metadata": {},
   "outputs": [],
   "source": [
    "from pathlib import Path\n",
    "\n",
    "import numpy as np\n",
    "import pandas as pd\n",
    "import matplotlib.pyplot as plt\n",
    "import sklearn"
   ]
  },
  {
   "cell_type": "code",
   "execution_count": 33,
   "metadata": {},
   "outputs": [
    {
     "data": {
      "text/html": [
       "<div>\n",
       "<style scoped>\n",
       "    .dataframe tbody tr th:only-of-type {\n",
       "        vertical-align: middle;\n",
       "    }\n",
       "\n",
       "    .dataframe tbody tr th {\n",
       "        vertical-align: top;\n",
       "    }\n",
       "\n",
       "    .dataframe thead th {\n",
       "        text-align: right;\n",
       "    }\n",
       "</style>\n",
       "<table border=\"1\" class=\"dataframe\">\n",
       "  <thead>\n",
       "    <tr style=\"text-align: right;\">\n",
       "      <th></th>\n",
       "      <th>counter_id</th>\n",
       "      <th>counter_name</th>\n",
       "      <th>site_id</th>\n",
       "      <th>site_name</th>\n",
       "      <th>bike_count</th>\n",
       "      <th>date</th>\n",
       "      <th>counter_installation_date</th>\n",
       "      <th>coordinates</th>\n",
       "      <th>counter_technical_id</th>\n",
       "      <th>latitude</th>\n",
       "      <th>longitude</th>\n",
       "      <th>log_bike_count</th>\n",
       "    </tr>\n",
       "  </thead>\n",
       "  <tbody>\n",
       "    <tr>\n",
       "      <th>48321</th>\n",
       "      <td>100007049-102007049</td>\n",
       "      <td>28 boulevard Diderot E-O</td>\n",
       "      <td>100007049</td>\n",
       "      <td>28 boulevard Diderot</td>\n",
       "      <td>0.0</td>\n",
       "      <td>2020-09-01 02:00:00</td>\n",
       "      <td>2013-01-18</td>\n",
       "      <td>48.846028,2.375429</td>\n",
       "      <td>Y2H15027244</td>\n",
       "      <td>48.846028</td>\n",
       "      <td>2.375429</td>\n",
       "      <td>0.000000</td>\n",
       "    </tr>\n",
       "    <tr>\n",
       "      <th>48324</th>\n",
       "      <td>100007049-102007049</td>\n",
       "      <td>28 boulevard Diderot E-O</td>\n",
       "      <td>100007049</td>\n",
       "      <td>28 boulevard Diderot</td>\n",
       "      <td>1.0</td>\n",
       "      <td>2020-09-01 03:00:00</td>\n",
       "      <td>2013-01-18</td>\n",
       "      <td>48.846028,2.375429</td>\n",
       "      <td>Y2H15027244</td>\n",
       "      <td>48.846028</td>\n",
       "      <td>2.375429</td>\n",
       "      <td>0.693147</td>\n",
       "    </tr>\n",
       "    <tr>\n",
       "      <th>48327</th>\n",
       "      <td>100007049-102007049</td>\n",
       "      <td>28 boulevard Diderot E-O</td>\n",
       "      <td>100007049</td>\n",
       "      <td>28 boulevard Diderot</td>\n",
       "      <td>0.0</td>\n",
       "      <td>2020-09-01 04:00:00</td>\n",
       "      <td>2013-01-18</td>\n",
       "      <td>48.846028,2.375429</td>\n",
       "      <td>Y2H15027244</td>\n",
       "      <td>48.846028</td>\n",
       "      <td>2.375429</td>\n",
       "      <td>0.000000</td>\n",
       "    </tr>\n",
       "    <tr>\n",
       "      <th>48330</th>\n",
       "      <td>100007049-102007049</td>\n",
       "      <td>28 boulevard Diderot E-O</td>\n",
       "      <td>100007049</td>\n",
       "      <td>28 boulevard Diderot</td>\n",
       "      <td>4.0</td>\n",
       "      <td>2020-09-01 15:00:00</td>\n",
       "      <td>2013-01-18</td>\n",
       "      <td>48.846028,2.375429</td>\n",
       "      <td>Y2H15027244</td>\n",
       "      <td>48.846028</td>\n",
       "      <td>2.375429</td>\n",
       "      <td>1.609438</td>\n",
       "    </tr>\n",
       "    <tr>\n",
       "      <th>48333</th>\n",
       "      <td>100007049-102007049</td>\n",
       "      <td>28 boulevard Diderot E-O</td>\n",
       "      <td>100007049</td>\n",
       "      <td>28 boulevard Diderot</td>\n",
       "      <td>9.0</td>\n",
       "      <td>2020-09-01 18:00:00</td>\n",
       "      <td>2013-01-18</td>\n",
       "      <td>48.846028,2.375429</td>\n",
       "      <td>Y2H15027244</td>\n",
       "      <td>48.846028</td>\n",
       "      <td>2.375429</td>\n",
       "      <td>2.302585</td>\n",
       "    </tr>\n",
       "  </tbody>\n",
       "</table>\n",
       "</div>"
      ],
      "text/plain": [
       "                counter_id              counter_name    site_id  \\\n",
       "48321  100007049-102007049  28 boulevard Diderot E-O  100007049   \n",
       "48324  100007049-102007049  28 boulevard Diderot E-O  100007049   \n",
       "48327  100007049-102007049  28 boulevard Diderot E-O  100007049   \n",
       "48330  100007049-102007049  28 boulevard Diderot E-O  100007049   \n",
       "48333  100007049-102007049  28 boulevard Diderot E-O  100007049   \n",
       "\n",
       "                  site_name  bike_count                date  \\\n",
       "48321  28 boulevard Diderot         0.0 2020-09-01 02:00:00   \n",
       "48324  28 boulevard Diderot         1.0 2020-09-01 03:00:00   \n",
       "48327  28 boulevard Diderot         0.0 2020-09-01 04:00:00   \n",
       "48330  28 boulevard Diderot         4.0 2020-09-01 15:00:00   \n",
       "48333  28 boulevard Diderot         9.0 2020-09-01 18:00:00   \n",
       "\n",
       "      counter_installation_date         coordinates counter_technical_id  \\\n",
       "48321                2013-01-18  48.846028,2.375429          Y2H15027244   \n",
       "48324                2013-01-18  48.846028,2.375429          Y2H15027244   \n",
       "48327                2013-01-18  48.846028,2.375429          Y2H15027244   \n",
       "48330                2013-01-18  48.846028,2.375429          Y2H15027244   \n",
       "48333                2013-01-18  48.846028,2.375429          Y2H15027244   \n",
       "\n",
       "        latitude  longitude  log_bike_count  \n",
       "48321  48.846028   2.375429        0.000000  \n",
       "48324  48.846028   2.375429        0.693147  \n",
       "48327  48.846028   2.375429        0.000000  \n",
       "48330  48.846028   2.375429        1.609438  \n",
       "48333  48.846028   2.375429        2.302585  "
      ]
     },
     "execution_count": 33,
     "metadata": {},
     "output_type": "execute_result"
    }
   ],
   "source": [
    "data = pd.read_parquet(Path(\"data\") / \"train.parquet\")\n",
    "data.head()"
   ]
  },
  {
   "cell_type": "code",
   "execution_count": 34,
   "metadata": {},
   "outputs": [
    {
     "name": "stdout",
     "output_type": "stream",
     "text": [
      "<class 'pandas.core.frame.DataFrame'>\n",
      "Index: 496827 entries, 48321 to 929187\n",
      "Data columns (total 12 columns):\n",
      " #   Column                     Non-Null Count   Dtype         \n",
      "---  ------                     --------------   -----         \n",
      " 0   counter_id                 496827 non-null  category      \n",
      " 1   counter_name               496827 non-null  category      \n",
      " 2   site_id                    496827 non-null  int64         \n",
      " 3   site_name                  496827 non-null  category      \n",
      " 4   bike_count                 496827 non-null  float64       \n",
      " 5   date                       496827 non-null  datetime64[us]\n",
      " 6   counter_installation_date  496827 non-null  datetime64[us]\n",
      " 7   coordinates                496827 non-null  category      \n",
      " 8   counter_technical_id       496827 non-null  category      \n",
      " 9   latitude                   496827 non-null  float64       \n",
      " 10  longitude                  496827 non-null  float64       \n",
      " 11  log_bike_count             496827 non-null  float64       \n",
      "dtypes: category(5), datetime64[us](2), float64(4), int64(1)\n",
      "memory usage: 32.7 MB\n"
     ]
    }
   ],
   "source": [
    "data.info()"
   ]
  },
  {
   "cell_type": "code",
   "execution_count": 35,
   "metadata": {},
   "outputs": [
    {
     "data": {
      "text/plain": [
       "counter_id                     56\n",
       "counter_name                   56\n",
       "site_id                        30\n",
       "site_name                      30\n",
       "bike_count                    998\n",
       "date                         8974\n",
       "counter_installation_date      22\n",
       "coordinates                    30\n",
       "counter_technical_id           30\n",
       "latitude                       30\n",
       "longitude                      30\n",
       "log_bike_count                998\n",
       "dtype: int64"
      ]
     },
     "execution_count": 35,
     "metadata": {},
     "output_type": "execute_result"
    }
   ],
   "source": [
    "data.nunique(axis=0)"
   ]
  },
  {
   "cell_type": "code",
   "execution_count": 36,
   "metadata": {},
   "outputs": [
    {
     "name": "stdout",
     "output_type": "stream",
     "text": [
      "2020-09-01 01:00:00 2021-09-09 23:00:00\n"
     ]
    }
   ],
   "source": [
    "start_date = data[\"date\"].min()\n",
    "end_date = data[\"date\"].max()\n",
    "print(start_date, end_date)"
   ]
  },
  {
   "cell_type": "code",
   "execution_count": 37,
   "metadata": {},
   "outputs": [
    {
     "data": {
      "text/plain": [
       "['28 boulevard Diderot E-O', '28 boulevard Diderot O-E', '39 quai François Mauriac NO-SE', '39 quai François Mauriac SE-NO', '18 quai de l'Hôtel de Ville NO-SE', ..., '90 Rue De Sèvres SO-NE', '20 Avenue de Clichy NO-SE', '20 Avenue de Clichy SE-NO', '254 rue de Vaugirard NE-SO', '254 rue de Vaugirard SO-NE']\n",
       "Length: 56\n",
       "Categories (56, object): ['152 boulevard du Montparnasse E-O', '152 boulevard du Montparnasse O-E', '18 quai de l'Hôtel de Ville NO-SE', '18 quai de l'Hôtel de Ville SE-NO', ..., 'Totem Cours la Reine E-O', 'Totem Cours la Reine O-E', 'Voie Georges Pompidou NE-SO', 'Voie Georges Pompidou SO-NE']"
      ]
     },
     "execution_count": 37,
     "metadata": {},
     "output_type": "execute_result"
    }
   ],
   "source": [
    "data[\"counter_name\"].unique()"
   ]
  },
  {
   "cell_type": "code",
   "execution_count": null,
   "metadata": {},
   "outputs": [
    {
     "name": "stderr",
     "output_type": "stream",
     "text": [
      "/var/folders/mj/kcf7qyqx3tscrsshg63cxj380000gn/T/ipykernel_43705/1678184817.py:4: FutureWarning: 'w' is deprecated and will be removed in a future version, please use 'W' instead.\n",
      "  data[mask].groupby(pd.Grouper(freq=\"1w\", key=\"date\"))[\n",
      "/var/folders/mj/kcf7qyqx3tscrsshg63cxj380000gn/T/ipykernel_43705/1678184817.py:4: FutureWarning: 'w' is deprecated and will be removed in a future version, please use 'W' instead.\n",
      "  data[mask].groupby(pd.Grouper(freq=\"1w\", key=\"date\"))[\n",
      "/var/folders/mj/kcf7qyqx3tscrsshg63cxj380000gn/T/ipykernel_43705/1678184817.py:4: FutureWarning: 'w' is deprecated and will be removed in a future version, please use 'W' instead.\n",
      "  data[mask].groupby(pd.Grouper(freq=\"1w\", key=\"date\"))[\n",
      "/var/folders/mj/kcf7qyqx3tscrsshg63cxj380000gn/T/ipykernel_43705/1678184817.py:4: FutureWarning: 'w' is deprecated and will be removed in a future version, please use 'W' instead.\n",
      "  data[mask].groupby(pd.Grouper(freq=\"1w\", key=\"date\"))[\n",
      "/var/folders/mj/kcf7qyqx3tscrsshg63cxj380000gn/T/ipykernel_43705/1678184817.py:4: FutureWarning: 'w' is deprecated and will be removed in a future version, please use 'W' instead.\n",
      "  data[mask].groupby(pd.Grouper(freq=\"1w\", key=\"date\"))[\n",
      "/var/folders/mj/kcf7qyqx3tscrsshg63cxj380000gn/T/ipykernel_43705/1678184817.py:4: FutureWarning: 'w' is deprecated and will be removed in a future version, please use 'W' instead.\n",
      "  data[mask].groupby(pd.Grouper(freq=\"1w\", key=\"date\"))[\n",
      "/var/folders/mj/kcf7qyqx3tscrsshg63cxj380000gn/T/ipykernel_43705/1678184817.py:4: FutureWarning: 'w' is deprecated and will be removed in a future version, please use 'W' instead.\n",
      "  data[mask].groupby(pd.Grouper(freq=\"1w\", key=\"date\"))[\n",
      "/var/folders/mj/kcf7qyqx3tscrsshg63cxj380000gn/T/ipykernel_43705/1678184817.py:4: FutureWarning: 'w' is deprecated and will be removed in a future version, please use 'W' instead.\n",
      "  data[mask].groupby(pd.Grouper(freq=\"1w\", key=\"date\"))[\n",
      "/var/folders/mj/kcf7qyqx3tscrsshg63cxj380000gn/T/ipykernel_43705/1678184817.py:4: FutureWarning: 'w' is deprecated and will be removed in a future version, please use 'W' instead.\n",
      "  data[mask].groupby(pd.Grouper(freq=\"1w\", key=\"date\"))[\n",
      "/var/folders/mj/kcf7qyqx3tscrsshg63cxj380000gn/T/ipykernel_43705/1678184817.py:4: FutureWarning: 'w' is deprecated and will be removed in a future version, please use 'W' instead.\n",
      "  data[mask].groupby(pd.Grouper(freq=\"1w\", key=\"date\"))[\n",
      "/var/folders/mj/kcf7qyqx3tscrsshg63cxj380000gn/T/ipykernel_43705/1678184817.py:3: RuntimeWarning: More than 20 figures have been opened. Figures created through the pyplot interface (`matplotlib.pyplot.figure`) are retained until explicitly closed and may consume too much memory. (To control this warning, see the rcParam `figure.max_open_warning`). Consider using `matplotlib.pyplot.close()`.\n",
      "  plt.figure(figsize=(4, 8))\n",
      "/var/folders/mj/kcf7qyqx3tscrsshg63cxj380000gn/T/ipykernel_43705/1678184817.py:4: FutureWarning: 'w' is deprecated and will be removed in a future version, please use 'W' instead.\n",
      "  data[mask].groupby(pd.Grouper(freq=\"1w\", key=\"date\"))[\n",
      "/var/folders/mj/kcf7qyqx3tscrsshg63cxj380000gn/T/ipykernel_43705/1678184817.py:4: FutureWarning: 'w' is deprecated and will be removed in a future version, please use 'W' instead.\n",
      "  data[mask].groupby(pd.Grouper(freq=\"1w\", key=\"date\"))[\n",
      "/var/folders/mj/kcf7qyqx3tscrsshg63cxj380000gn/T/ipykernel_43705/1678184817.py:4: FutureWarning: 'w' is deprecated and will be removed in a future version, please use 'W' instead.\n",
      "  data[mask].groupby(pd.Grouper(freq=\"1w\", key=\"date\"))[\n",
      "/var/folders/mj/kcf7qyqx3tscrsshg63cxj380000gn/T/ipykernel_43705/1678184817.py:4: FutureWarning: 'w' is deprecated and will be removed in a future version, please use 'W' instead.\n",
      "  data[mask].groupby(pd.Grouper(freq=\"1w\", key=\"date\"))[\n",
      "/var/folders/mj/kcf7qyqx3tscrsshg63cxj380000gn/T/ipykernel_43705/1678184817.py:4: FutureWarning: 'w' is deprecated and will be removed in a future version, please use 'W' instead.\n",
      "  data[mask].groupby(pd.Grouper(freq=\"1w\", key=\"date\"))[\n",
      "/var/folders/mj/kcf7qyqx3tscrsshg63cxj380000gn/T/ipykernel_43705/1678184817.py:4: FutureWarning: 'w' is deprecated and will be removed in a future version, please use 'W' instead.\n",
      "  data[mask].groupby(pd.Grouper(freq=\"1w\", key=\"date\"))[\n"
     ]
    }
   ],
   "source": [
    "for counter in data[\"counter_name\"].unique():\n",
    "   mask = data[\"counter_name\"] == counter\n",
    "   plt.figure(figsize=(4, 8))\n",
    "   data[mask].groupby(pd.Grouper(freq=\"1w\", key=\"date\"))[\n",
    "   [\"log_bike_count\"]\n",
    "   ].sum().plot()\n",
    "   plt.title(counter)"
   ]
  },
  {
   "cell_type": "code",
   "execution_count": null,
   "metadata": {},
   "outputs": [],
   "source": []
  }
 ],
 "metadata": {
  "kernelspec": {
   "display_name": "py312-myenv",
   "language": "python",
   "name": "python3"
  },
  "language_info": {
   "codemirror_mode": {
    "name": "ipython",
    "version": 3
   },
   "file_extension": ".py",
   "mimetype": "text/x-python",
   "name": "python",
   "nbconvert_exporter": "python",
   "pygments_lexer": "ipython3",
   "version": "3.12.7"
  }
 },
 "nbformat": 4,
 "nbformat_minor": 2
}
